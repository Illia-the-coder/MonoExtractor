{
 "cells": [
  {
   "cell_type": "code",
   "execution_count": null,
   "metadata": {},
   "outputs": [],
   "source": [
    "!pip3 install monobank pandas"
   ]
  },
  {
   "cell_type": "code",
   "execution_count": null,
   "metadata": {},
   "outputs": [],
   "source": [
    "import monobank\n",
    "import pandas as pd\n",
    "from datetime import date, timedelta\n",
    "import time\n",
    "\n",
    "# 3. Initialize the client with your token\n",
    "token = 'token'\n",
    "mono = monobank.Client(token)"
   ]
  },
  {
   "cell_type": "code",
   "execution_count": null,
   "metadata": {},
   "outputs": [],
   "source": [
    "mono.get_client_info()"
   ]
  },
  {
   "cell_type": "code",
   "execution_count": null,
   "metadata": {},
   "outputs": [],
   "source": [
    "def get_statements_as_df(account_id: str, start_date: date) -> pd.DataFrame:\n",
    "    \"\"\"\n",
    "    Retrieve all operations from a given date to today for a specific account \n",
    "    and return them as a pandas DataFrame.\n",
    "\n",
    "    Parameters:\n",
    "    account_id (str): The account ID to retrieve statements for.\n",
    "    start_date (date): The start date to retrieve statements from.\n",
    "\n",
    "    Returns:\n",
    "    pd.DataFrame: A DataFrame containing the account statements.\n",
    "    \"\"\"\n",
    "    \n",
    "    end_date = date.today()\n",
    "    current_start_date = start_date\n",
    "    statements = []\n",
    "    \n",
    "    # Fetch data in 30-day intervals\n",
    "    while current_start_date <= end_date:\n",
    "        # Make sure 'to' date is not more than 30 days from 'from' date and it's not a future date\n",
    "        current_end_date = min(current_start_date + timedelta(days=30), end_date, date.today())\n",
    "        try:\n",
    "            statements += mono.get_statements(account_id, current_start_date, current_end_date)\n",
    "        except monobank.TooManyRequests:\n",
    "            print(\"Too many requests. Waiting for 60 seconds before retrying.\")\n",
    "            time.sleep(60)  # wait for 60 seconds before retrying\n",
    "            continue\n",
    "        current_start_date = current_end_date + timedelta(days=1)\n",
    "\n",
    "    # Convert the statements into a DataFrame\n",
    "    df = pd.DataFrame(statements)\n",
    "    \n",
    "    return df\n"
   ]
  },
  {
   "cell_type": "code",
   "execution_count": null,
   "metadata": {},
   "outputs": [],
   "source": [
    "mono.get_statements('token',  date(2022,10,4),  date(2022,10,6))"
   ]
  },
  {
   "cell_type": "code",
   "execution_count": null,
   "metadata": {},
   "outputs": [],
   "source": [
    "history = get_statements_as_df('token', date(2022,10,4))"
   ]
  },
  {
   "cell_type": "code",
   "execution_count": null,
   "metadata": {},
   "outputs": [],
   "source": [
    "def divide100(x):\n",
    "    return x/100\n",
    "# apply to 'amount' 'operationAmount' 'cashbackAmount' 'balance' \n",
    "df['amount'] = df['amount'].apply(divide100)\n",
    "df['operationAmount'] = df['operationAmount'].apply(divide100)\n",
    "df['cashbackAmount'] = df['cashbackAmount'].apply(divide100)\n",
    "df['balance'] = df['balance'].apply(divide100)\n",
    "\n",
    "df['time'] = df['time'].dt.tz_localize('UTC').dt.tz_convert('US/Eastern')\n",
    "\n",
    "df.to_csv('monobank.csv')"
   ]
  }
 ],
 "metadata": {
  "kernelspec": {
   "display_name": "Python 3",
   "language": "python",
   "name": "python3"
  },
  "language_info": {
   "codemirror_mode": {
    "name": "ipython",
    "version": 3
   },
   "file_extension": ".py",
   "mimetype": "text/x-python",
   "name": "python",
   "nbconvert_exporter": "python",
   "pygments_lexer": "ipython3",
   "version": "3.11.3"
  },
  "orig_nbformat": 4
 },
 "nbformat": 4,
 "nbformat_minor": 2
}
